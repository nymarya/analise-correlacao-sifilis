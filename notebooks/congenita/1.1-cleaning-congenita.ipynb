{
 "cells": [
  {
   "cell_type": "markdown",
   "metadata": {},
   "source": [
    "## Cleaning"
   ]
  },
  {
   "cell_type": "code",
   "execution_count": 1,
   "metadata": {},
   "outputs": [],
   "source": [
    "# imports \n",
    "import seaborn as sns\n",
    "import pandas as pd\n",
    "import numpy as np\n",
    "\n",
    "from sklearn.preprocessing import LabelEncoder, StandardScaler"
   ]
  },
  {
   "cell_type": "code",
   "execution_count": 2,
   "metadata": {},
   "outputs": [
    {
     "name": "stderr",
     "output_type": "stream",
     "text": [
      "/home/italo/anaconda3/envs/venv/lib/python3.7/site-packages/IPython/core/interactiveshell.py:3063: DtypeWarning: Columns (0) have mixed types. Specify dtype option on import or set low_memory=False.\n",
      "  interactivity=interactivity, compiler=compiler, result=result)\n"
     ]
    }
   ],
   "source": [
    "df = pd.read_csv('../../data/SINAN/SifCongenita_2007_2017_Long.csv', sep=';')"
   ]
  },
  {
   "cell_type": "code",
   "execution_count": 3,
   "metadata": {},
   "outputs": [],
   "source": [
    "# remove irrelevant columns\n",
    "df_clean = df.drop(labels=['UFRES', 'IDADE_CRI', 'FXET_MAE', 'ctrlsifcn'], axis='columns')"
   ]
  },
  {
   "cell_type": "code",
   "execution_count": 4,
   "metadata": {},
   "outputs": [],
   "source": [
    "# change empty string to missing values\n",
    "df_clean.replace('\\s+', np.nan, regex=True, inplace=True)"
   ]
  },
  {
   "cell_type": "code",
   "execution_count": 5,
   "metadata": {},
   "outputs": [
    {
     "name": "stdout",
     "output_type": "stream",
     "text": [
      "<class 'pandas.core.frame.DataFrame'>\n",
      "RangeIndex: 125136 entries, 0 to 125135\n",
      "Data columns (total 15 columns):\n",
      "DT_DIAG       125136 non-null object\n",
      "DT_NOT        125136 non-null object\n",
      "DT_NASC       125135 non-null object\n",
      "RACA          125136 non-null int64\n",
      "ANODIAG       125136 non-null int64\n",
      "ANONOT        125136 non-null int64\n",
      "SEXO          125136 non-null int64\n",
      "ESQTT_MAE     125136 non-null int64\n",
      "DIAG_FINAL    125136 non-null int64\n",
      "PRE_NATAL     125136 non-null int64\n",
      "PARCTRAT      125136 non-null int64\n",
      "ESC_MAE       125136 non-null int64\n",
      "MOM_DIAG      125136 non-null int64\n",
      "ID_MAE        125136 non-null int64\n",
      "MUNRES        125102 non-null object\n",
      "dtypes: int64(11), object(4)\n",
      "memory usage: 14.3+ MB\n"
     ]
    }
   ],
   "source": [
    "df_clean.info()"
   ]
  },
  {
   "cell_type": "markdown",
   "metadata": {},
   "source": [
    "Before taking the last steps of preprocessing, we need to erase the nan values. Otherwise the methods of conversion and labeling won't work."
   ]
  },
  {
   "cell_type": "code",
   "execution_count": 6,
   "metadata": {},
   "outputs": [],
   "source": [
    "# convert columns that are numeric but have string values\n",
    "not_categorical = [\n",
    "    'RACA', 'ESQTT_MAE', 'DIAG_FINAL', 'PRE_NATAL', \n",
    "    'PARCTRAT', 'ESC_MAE', 'MOM_DIAG', 'ID_MAE', \n",
    "    'MUNRES'\n",
    "]\n",
    "\n",
    "df_clean.dropna(inplace=True, axis='rows', subset=not_categorical)\n",
    "\n",
    "df_clean.loc[:,not_categorical] = df_clean.loc[:,not_categorical].astype('int64')"
   ]
  },
  {
   "cell_type": "code",
   "execution_count": 7,
   "metadata": {},
   "outputs": [
    {
     "name": "stdout",
     "output_type": "stream",
     "text": [
      "<class 'pandas.core.frame.DataFrame'>\n",
      "Int64Index: 125102 entries, 0 to 125135\n",
      "Data columns (total 15 columns):\n",
      "DT_DIAG       125102 non-null object\n",
      "DT_NOT        125102 non-null object\n",
      "DT_NASC       125101 non-null object\n",
      "RACA          125102 non-null int64\n",
      "ANODIAG       125102 non-null int64\n",
      "ANONOT        125102 non-null int64\n",
      "SEXO          125102 non-null int64\n",
      "ESQTT_MAE     125102 non-null int64\n",
      "DIAG_FINAL    125102 non-null int64\n",
      "PRE_NATAL     125102 non-null int64\n",
      "PARCTRAT      125102 non-null int64\n",
      "ESC_MAE       125102 non-null int64\n",
      "MOM_DIAG      125102 non-null int64\n",
      "ID_MAE        125102 non-null int64\n",
      "MUNRES        125102 non-null int64\n",
      "dtypes: int64(12), object(3)\n",
      "memory usage: 15.3+ MB\n"
     ]
    }
   ],
   "source": [
    "df_clean.info()"
   ]
  },
  {
   "cell_type": "code",
   "execution_count": 8,
   "metadata": {},
   "outputs": [
    {
     "data": {
      "text/plain": [
       "Index(['DT_DIAG', 'DT_NOT', 'DT_NASC'], dtype='object')"
      ]
     },
     "execution_count": 8,
     "metadata": {},
     "output_type": "execute_result"
    }
   ],
   "source": [
    "# test select columns by type\n",
    "df_clean.select_dtypes(include='object').columns"
   ]
  },
  {
   "cell_type": "code",
   "execution_count": 9,
   "metadata": {},
   "outputs": [
    {
     "data": {
      "text/plain": [
       "0         1/29/1999\n",
       "1         5/12/2001\n",
       "2          6/2/2003\n",
       "3         3/19/2004\n",
       "4         6/13/2005\n",
       "            ...    \n",
       "125131    3/30/2017\n",
       "125132    6/28/2017\n",
       "125133    6/23/2017\n",
       "125134     6/8/2017\n",
       "125135     4/8/2017\n",
       "Name: DT_NASC, Length: 125102, dtype: object"
      ]
     },
     "execution_count": 9,
     "metadata": {},
     "output_type": "execute_result"
    }
   ],
   "source": [
    "df_clean['DT_NASC']"
   ]
  },
  {
   "cell_type": "code",
   "execution_count": 10,
   "metadata": {},
   "outputs": [
    {
     "name": "stdout",
     "output_type": "stream",
     "text": [
      "DT_DIAG\n",
      "0         1/29/1999\n",
      "1         5/12/2001\n",
      "2          6/2/2003\n",
      "3         3/29/2004\n",
      "4         6/13/2005\n",
      "            ...    \n",
      "125131    3/31/2017\n",
      "125132    6/29/2017\n",
      "125133    6/24/2017\n",
      "125134     6/8/2017\n",
      "125135     4/8/2017\n",
      "Name: DT_DIAG, Length: 125102, dtype: object\n",
      "DT_NOT\n",
      "0          5/14/2008\n",
      "1          5/12/2011\n",
      "2           6/2/2011\n",
      "3         10/20/2007\n",
      "4         10/31/2007\n",
      "             ...    \n",
      "125131     3/31/2017\n",
      "125132     6/30/2017\n",
      "125133     6/26/2017\n",
      "125134      7/8/2017\n",
      "125135      4/8/2017\n",
      "Name: DT_NOT, Length: 125102, dtype: object\n",
      "DT_NASC\n",
      "0         1/29/1999\n",
      "1         5/12/2001\n",
      "2          6/2/2003\n",
      "3         3/19/2004\n",
      "4         6/13/2005\n",
      "            ...    \n",
      "125131    3/30/2017\n",
      "125132    6/28/2017\n",
      "125133    6/23/2017\n",
      "125134     6/8/2017\n",
      "125135     4/8/2017\n",
      "Name: DT_NASC, Length: 125102, dtype: object\n"
     ]
    },
    {
     "name": "stderr",
     "output_type": "stream",
     "text": [
      "/home/italo/anaconda3/envs/venv/lib/python3.7/site-packages/pandas/core/frame.py:4259: SettingWithCopyWarning: \n",
      "A value is trying to be set on a copy of a slice from a DataFrame\n",
      "\n",
      "See the caveats in the documentation: http://pandas.pydata.org/pandas-docs/stable/user_guide/indexing.html#returning-a-view-versus-a-copy\n",
      "  **kwargs\n"
     ]
    }
   ],
   "source": [
    "categorical = df_clean.select_dtypes(include='object').columns\n",
    "df_clean[categorical].fillna(' ', inplace=True)\n",
    "\n",
    "for category in categorical:\n",
    "    label_enc = LabelEncoder()\n",
    "    print(category)\n",
    "    print(df_clean[category])\n",
    "    labels = label_enc.fit_transform(df_clean[category].astype(str))\n",
    "    df_clean[category] = labels"
   ]
  },
  {
   "cell_type": "markdown",
   "metadata": {},
   "source": [
    "Finally, we normalize the data.\n"
   ]
  },
  {
   "cell_type": "code",
   "execution_count": 11,
   "metadata": {
    "scrolled": true
   },
   "outputs": [
    {
     "data": {
      "text/html": [
       "<div>\n",
       "<style scoped>\n",
       "    .dataframe tbody tr th:only-of-type {\n",
       "        vertical-align: middle;\n",
       "    }\n",
       "\n",
       "    .dataframe tbody tr th {\n",
       "        vertical-align: top;\n",
       "    }\n",
       "\n",
       "    .dataframe thead th {\n",
       "        text-align: right;\n",
       "    }\n",
       "</style>\n",
       "<table border=\"1\" class=\"dataframe\">\n",
       "  <thead>\n",
       "    <tr style=\"text-align: right;\">\n",
       "      <th></th>\n",
       "      <th>DT_DIAG</th>\n",
       "      <th>DT_NOT</th>\n",
       "      <th>DT_NASC</th>\n",
       "      <th>RACA</th>\n",
       "      <th>ANODIAG</th>\n",
       "      <th>ANONOT</th>\n",
       "      <th>SEXO</th>\n",
       "      <th>ESQTT_MAE</th>\n",
       "      <th>DIAG_FINAL</th>\n",
       "      <th>PRE_NATAL</th>\n",
       "      <th>PARCTRAT</th>\n",
       "      <th>ESC_MAE</th>\n",
       "      <th>MOM_DIAG</th>\n",
       "      <th>ID_MAE</th>\n",
       "      <th>MUNRES</th>\n",
       "    </tr>\n",
       "  </thead>\n",
       "  <tbody>\n",
       "    <tr>\n",
       "      <th>0</th>\n",
       "      <td>-1.563121</td>\n",
       "      <td>0.326454</td>\n",
       "      <td>-1.561054</td>\n",
       "      <td>0.168357</td>\n",
       "      <td>-5.041242</td>\n",
       "      <td>-1.841396</td>\n",
       "      <td>-0.522593</td>\n",
       "      <td>2.674305</td>\n",
       "      <td>3.956686</td>\n",
       "      <td>3.763937</td>\n",
       "      <td>1.789364</td>\n",
       "      <td>-0.696088</td>\n",
       "      <td>4.164893</td>\n",
       "      <td>6.187623</td>\n",
       "      <td>-1.856164</td>\n",
       "    </tr>\n",
       "    <tr>\n",
       "      <th>1</th>\n",
       "      <td>0.321478</td>\n",
       "      <td>0.309007</td>\n",
       "      <td>0.322898</td>\n",
       "      <td>-0.715497</td>\n",
       "      <td>-4.326836</td>\n",
       "      <td>-0.767786</td>\n",
       "      <td>-0.003506</td>\n",
       "      <td>-0.483658</td>\n",
       "      <td>-0.291043</td>\n",
       "      <td>-0.348558</td>\n",
       "      <td>-0.497020</td>\n",
       "      <td>-0.626529</td>\n",
       "      <td>-0.561908</td>\n",
       "      <td>-0.172052</td>\n",
       "      <td>0.180272</td>\n",
       "    </tr>\n",
       "    <tr>\n",
       "      <th>2</th>\n",
       "      <td>0.712673</td>\n",
       "      <td>0.700190</td>\n",
       "      <td>0.715242</td>\n",
       "      <td>0.168357</td>\n",
       "      <td>-3.612429</td>\n",
       "      <td>-0.767786</td>\n",
       "      <td>-0.003506</td>\n",
       "      <td>-0.032520</td>\n",
       "      <td>2.540776</td>\n",
       "      <td>0.165504</td>\n",
       "      <td>-0.497020</td>\n",
       "      <td>1.576160</td>\n",
       "      <td>4.164893</td>\n",
       "      <td>-0.132956</td>\n",
       "      <td>0.177047</td>\n",
       "    </tr>\n",
       "    <tr>\n",
       "      <th>3</th>\n",
       "      <td>-0.108564</td>\n",
       "      <td>-1.356735</td>\n",
       "      <td>-0.212753</td>\n",
       "      <td>-1.157424</td>\n",
       "      <td>-3.255226</td>\n",
       "      <td>-2.199266</td>\n",
       "      <td>-0.522593</td>\n",
       "      <td>-0.934796</td>\n",
       "      <td>3.956686</td>\n",
       "      <td>-0.348558</td>\n",
       "      <td>-0.823646</td>\n",
       "      <td>-0.696088</td>\n",
       "      <td>-0.561908</td>\n",
       "      <td>-0.165536</td>\n",
       "      <td>1.085248</td>\n",
       "    </tr>\n",
       "    <tr>\n",
       "      <th>4</th>\n",
       "      <td>0.642204</td>\n",
       "      <td>-1.246543</td>\n",
       "      <td>0.644463</td>\n",
       "      <td>-0.715497</td>\n",
       "      <td>-2.898023</td>\n",
       "      <td>-2.199266</td>\n",
       "      <td>-0.522593</td>\n",
       "      <td>2.674305</td>\n",
       "      <td>-0.291043</td>\n",
       "      <td>-0.348558</td>\n",
       "      <td>1.789364</td>\n",
       "      <td>1.576160</td>\n",
       "      <td>0.619792</td>\n",
       "      <td>-0.185085</td>\n",
       "      <td>0.180272</td>\n",
       "    </tr>\n",
       "  </tbody>\n",
       "</table>\n",
       "</div>"
      ],
      "text/plain": [
       "    DT_DIAG    DT_NOT   DT_NASC      RACA   ANODIAG    ANONOT      SEXO  \\\n",
       "0 -1.563121  0.326454 -1.561054  0.168357 -5.041242 -1.841396 -0.522593   \n",
       "1  0.321478  0.309007  0.322898 -0.715497 -4.326836 -0.767786 -0.003506   \n",
       "2  0.712673  0.700190  0.715242  0.168357 -3.612429 -0.767786 -0.003506   \n",
       "3 -0.108564 -1.356735 -0.212753 -1.157424 -3.255226 -2.199266 -0.522593   \n",
       "4  0.642204 -1.246543  0.644463 -0.715497 -2.898023 -2.199266 -0.522593   \n",
       "\n",
       "   ESQTT_MAE  DIAG_FINAL  PRE_NATAL  PARCTRAT   ESC_MAE  MOM_DIAG    ID_MAE  \\\n",
       "0   2.674305    3.956686   3.763937  1.789364 -0.696088  4.164893  6.187623   \n",
       "1  -0.483658   -0.291043  -0.348558 -0.497020 -0.626529 -0.561908 -0.172052   \n",
       "2  -0.032520    2.540776   0.165504 -0.497020  1.576160  4.164893 -0.132956   \n",
       "3  -0.934796    3.956686  -0.348558 -0.823646 -0.696088 -0.561908 -0.165536   \n",
       "4   2.674305   -0.291043  -0.348558  1.789364  1.576160  0.619792 -0.185085   \n",
       "\n",
       "     MUNRES  \n",
       "0 -1.856164  \n",
       "1  0.180272  \n",
       "2  0.177047  \n",
       "3  1.085248  \n",
       "4  0.180272  "
      ]
     },
     "execution_count": 11,
     "metadata": {},
     "output_type": "execute_result"
    }
   ],
   "source": [
    "scaler = StandardScaler()\n",
    "data = scaler.fit_transform(df_clean.values)\n",
    "    \n",
    "    \n",
    "# transform to df agagin\n",
    "data_df = pd.DataFrame(data)\n",
    "data_df.columns = df_clean.columns\n",
    "    \n",
    "# check the result\n",
    "data_df.head()"
   ]
  },
  {
   "cell_type": "code",
   "execution_count": 12,
   "metadata": {},
   "outputs": [
    {
     "name": "stdout",
     "output_type": "stream",
     "text": [
      "DT_DIAG, DT_NOT (0.8746020816266783)\n",
      "DT_DIAG, DT_NASC (0.9733966321276298)\n",
      "DT_NOT, DT_DIAG (0.8746020816266783)\n",
      "DT_NOT, DT_NASC (0.8513036411141861)\n",
      "DT_NASC, DT_DIAG (0.9733966321276298)\n",
      "DT_NASC, DT_NOT (0.8513036411141861)\n",
      "ANODIAG, ANONOT (0.9974486348312591)\n",
      "ANONOT, ANODIAG (0.9974486348312591)\n"
     ]
    }
   ],
   "source": [
    "# Compute the correlation matrix\n",
    "corr = data_df.corr()\n",
    "\n",
    "for index, row in corr.iterrows():\n",
    "    for val in row :\n",
    "        if (val > 0.7) or (val < -0.7):\n",
    "            indx = row[ row == val].index[0]\n",
    "            if index != indx:\n",
    "                print('{}, {} ({})'.format(index, indx, val))"
   ]
  }
 ],
 "metadata": {
  "kernelspec": {
   "display_name": "Python 3",
   "language": "python",
   "name": "python3"
  },
  "language_info": {
   "codemirror_mode": {
    "name": "ipython",
    "version": 3
   },
   "file_extension": ".py",
   "mimetype": "text/x-python",
   "name": "python",
   "nbconvert_exporter": "python",
   "pygments_lexer": "ipython3",
   "version": "3.7.6"
  }
 },
 "nbformat": 4,
 "nbformat_minor": 4
}
