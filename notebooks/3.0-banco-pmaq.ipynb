{
 "cells": [
  {
   "cell_type": "markdown",
   "metadata": {},
   "source": [
    "## Recuperando dados do PMAQ\n",
    "\n",
    "Usando dados disponibilizados"
   ]
  },
  {
   "cell_type": "code",
   "execution_count": 1,
   "metadata": {},
   "outputs": [],
   "source": [
    "import pandas as pd"
   ]
  },
  {
   "cell_type": "markdown",
   "metadata": {},
   "source": [
    "O primeiro passo é importar os CSVs. Escolher apenas as variáveis referentes a sífilis e teste rápido ajuda a diminuir o tempo de processamento e espaço ocupado."
   ]
  },
  {
   "cell_type": "code",
   "execution_count": 7,
   "metadata": {},
   "outputs": [
    {
     "name": "stderr",
     "output_type": "stream",
     "text": [
      "/Users/mayradazvd/workspace/alaunus/lib/python3.7/site-packages/IPython/core/interactiveshell.py:3051: DtypeWarning: Columns (8) have mixed types. Specify dtype option on import or set low_memory=False.\n",
      "  interactivity=interactivity, compiler=compiler, result=result)\n"
     ]
    },
    {
     "data": {
      "text/html": [
       "<div>\n",
       "<style scoped>\n",
       "    .dataframe tbody tr th:only-of-type {\n",
       "        vertical-align: middle;\n",
       "    }\n",
       "\n",
       "    .dataframe tbody tr th {\n",
       "        vertical-align: top;\n",
       "    }\n",
       "\n",
       "    .dataframe thead th {\n",
       "        text-align: right;\n",
       "    }\n",
       "</style>\n",
       "<table border=\"1\" class=\"dataframe\">\n",
       "  <thead>\n",
       "    <tr style=\"text-align: right;\">\n",
       "      <th></th>\n",
       "      <th>IBGE</th>\n",
       "      <th>CNES_FINAL</th>\n",
       "      <th>DATA</th>\n",
       "      <th>I.11.1</th>\n",
       "      <th>I.15.9.3</th>\n",
       "      <th>I.15.9.4</th>\n",
       "    </tr>\n",
       "  </thead>\n",
       "  <tbody>\n",
       "    <tr>\n",
       "      <th>0</th>\n",
       "      <td>120001</td>\n",
       "      <td>3382745</td>\n",
       "      <td>2017-10-16 11:55:06.999000+00:00</td>\n",
       "      <td>1</td>\n",
       "      <td>2</td>\n",
       "      <td>2</td>\n",
       "    </tr>\n",
       "    <tr>\n",
       "      <th>1</th>\n",
       "      <td>120001</td>\n",
       "      <td>3393984</td>\n",
       "      <td>2017-10-16 11:53:35.875000+00:00</td>\n",
       "      <td>1</td>\n",
       "      <td>998</td>\n",
       "      <td>998</td>\n",
       "    </tr>\n",
       "    <tr>\n",
       "      <th>2</th>\n",
       "      <td>120001</td>\n",
       "      <td>3638685</td>\n",
       "      <td>2017-10-16 11:56:20.573000+00:00</td>\n",
       "      <td>1</td>\n",
       "      <td>2</td>\n",
       "      <td>2</td>\n",
       "    </tr>\n",
       "    <tr>\n",
       "      <th>3</th>\n",
       "      <td>120001</td>\n",
       "      <td>5403669</td>\n",
       "      <td>2017-10-16 11:58:08.037000+00:00</td>\n",
       "      <td>1</td>\n",
       "      <td>2</td>\n",
       "      <td>2</td>\n",
       "    </tr>\n",
       "    <tr>\n",
       "      <th>4</th>\n",
       "      <td>120005</td>\n",
       "      <td>3797554</td>\n",
       "      <td>2017-10-16 01:35:10.520000+00:00</td>\n",
       "      <td>1</td>\n",
       "      <td>998</td>\n",
       "      <td>998</td>\n",
       "    </tr>\n",
       "  </tbody>\n",
       "</table>\n",
       "</div>"
      ],
      "text/plain": [
       "     IBGE CNES_FINAL                             DATA  I.11.1  I.15.9.3  \\\n",
       "0  120001    3382745 2017-10-16 11:55:06.999000+00:00       1         2   \n",
       "1  120001    3393984 2017-10-16 11:53:35.875000+00:00       1       998   \n",
       "2  120001    3638685 2017-10-16 11:56:20.573000+00:00       1         2   \n",
       "3  120001    5403669 2017-10-16 11:58:08.037000+00:00       1         2   \n",
       "4  120005    3797554 2017-10-16 01:35:10.520000+00:00       1       998   \n",
       "\n",
       "   I.15.9.4  \n",
       "0         2  \n",
       "1       998  \n",
       "2         2  \n",
       "3         2  \n",
       "4       998  "
      ]
     },
     "execution_count": 7,
     "metadata": {},
     "output_type": "execute_result"
    }
   ],
   "source": [
    "m1 = pd.read_csv('../data/BANCO_PMAQ/M_I.csv', usecols=['IBGE', 'CNES_FINAL', 'DATA', 'I.11.1', 'I.15.9.3', 'I.15.9.4'], sep=';', parse_dates=['DATA'])\n",
    "\n",
    "m1.head()"
   ]
  },
  {
   "cell_type": "code",
   "execution_count": 10,
   "metadata": {},
   "outputs": [
    {
     "name": "stdout",
     "output_type": "stream",
     "text": [
      "<class 'pandas.core.frame.DataFrame'>\n",
      "RangeIndex: 30346 entries, 0 to 30345\n",
      "Data columns (total 6 columns):\n",
      "IBGE          30346 non-null int64\n",
      "CNES_FINAL    30346 non-null object\n",
      "DATA          30346 non-null datetime64[ns, UTC]\n",
      "I.11.1        30346 non-null int64\n",
      "I.15.9.3      30346 non-null int64\n",
      "I.15.9.4      30346 non-null int64\n",
      "dtypes: datetime64[ns, UTC](1), int64(4), object(1)\n",
      "memory usage: 1.4+ MB\n"
     ]
    }
   ],
   "source": [
    "m1.info()"
   ]
  },
  {
   "cell_type": "code",
   "execution_count": 8,
   "metadata": {},
   "outputs": [
    {
     "data": {
      "text/html": [
       "<div>\n",
       "<style scoped>\n",
       "    .dataframe tbody tr th:only-of-type {\n",
       "        vertical-align: middle;\n",
       "    }\n",
       "\n",
       "    .dataframe tbody tr th {\n",
       "        vertical-align: top;\n",
       "    }\n",
       "\n",
       "    .dataframe thead th {\n",
       "        text-align: right;\n",
       "    }\n",
       "</style>\n",
       "<table border=\"1\" class=\"dataframe\">\n",
       "  <thead>\n",
       "    <tr style=\"text-align: right;\">\n",
       "      <th></th>\n",
       "      <th>IBGE</th>\n",
       "      <th>INE</th>\n",
       "      <th>CNES_FINAL</th>\n",
       "      <th>DATA</th>\n",
       "      <th>II.12.1.7</th>\n",
       "      <th>II.15.13</th>\n",
       "    </tr>\n",
       "  </thead>\n",
       "  <tbody>\n",
       "    <tr>\n",
       "      <th>0</th>\n",
       "      <td>120001</td>\n",
       "      <td>4294</td>\n",
       "      <td>3006166</td>\n",
       "      <td>2018-10-15 21:40:41.803000+00:00</td>\n",
       "      <td>9997</td>\n",
       "      <td>9997</td>\n",
       "    </tr>\n",
       "    <tr>\n",
       "      <th>1</th>\n",
       "      <td>120001</td>\n",
       "      <td>4316</td>\n",
       "      <td>3382745</td>\n",
       "      <td>2017-10-16 11:54:56.667000+00:00</td>\n",
       "      <td>1</td>\n",
       "      <td>1</td>\n",
       "    </tr>\n",
       "    <tr>\n",
       "      <th>2</th>\n",
       "      <td>120001</td>\n",
       "      <td>4324</td>\n",
       "      <td>3393984</td>\n",
       "      <td>2017-10-16 11:52:59.062000+00:00</td>\n",
       "      <td>1</td>\n",
       "      <td>1</td>\n",
       "    </tr>\n",
       "    <tr>\n",
       "      <th>3</th>\n",
       "      <td>120001</td>\n",
       "      <td>4332</td>\n",
       "      <td>3638685</td>\n",
       "      <td>2017-10-16 11:56:10.811000+00:00</td>\n",
       "      <td>1</td>\n",
       "      <td>1</td>\n",
       "    </tr>\n",
       "    <tr>\n",
       "      <th>4</th>\n",
       "      <td>120001</td>\n",
       "      <td>4340</td>\n",
       "      <td>5403669</td>\n",
       "      <td>2017-10-16 11:57:57.439000+00:00</td>\n",
       "      <td>1</td>\n",
       "      <td>2</td>\n",
       "    </tr>\n",
       "  </tbody>\n",
       "</table>\n",
       "</div>"
      ],
      "text/plain": [
       "     IBGE   INE CNES_FINAL                             DATA  II.12.1.7  \\\n",
       "0  120001  4294    3006166 2018-10-15 21:40:41.803000+00:00       9997   \n",
       "1  120001  4316    3382745 2017-10-16 11:54:56.667000+00:00          1   \n",
       "2  120001  4324    3393984 2017-10-16 11:52:59.062000+00:00          1   \n",
       "3  120001  4332    3638685 2017-10-16 11:56:10.811000+00:00          1   \n",
       "4  120001  4340    5403669 2017-10-16 11:57:57.439000+00:00          1   \n",
       "\n",
       "   II.15.13  \n",
       "0      9997  \n",
       "1         1  \n",
       "2         1  \n",
       "3         1  \n",
       "4         2  "
      ]
     },
     "execution_count": 8,
     "metadata": {},
     "output_type": "execute_result"
    }
   ],
   "source": [
    "m2 = pd.read_csv('../data/BANCO_PMAQ/M_II.csv', usecols=['IBGE', 'CNES_FINAL', 'INE', 'DATA', 'II.12.1.7', 'II.15.13'], sep=';', parse_dates=['DATA'])\n",
    "\n",
    "m2.head()"
   ]
  },
  {
   "cell_type": "code",
   "execution_count": 11,
   "metadata": {},
   "outputs": [
    {
     "name": "stdout",
     "output_type": "stream",
     "text": [
      "<class 'pandas.core.frame.DataFrame'>\n",
      "RangeIndex: 38865 entries, 0 to 38864\n",
      "Data columns (total 6 columns):\n",
      "IBGE          38865 non-null int64\n",
      "INE           38865 non-null int64\n",
      "CNES_FINAL    38865 non-null object\n",
      "DATA          38865 non-null datetime64[ns, UTC]\n",
      "II.12.1.7     38865 non-null int64\n",
      "II.15.13      38865 non-null int64\n",
      "dtypes: datetime64[ns, UTC](1), int64(4), object(1)\n",
      "memory usage: 1.8+ MB\n"
     ]
    }
   ],
   "source": [
    "m2.info()"
   ]
  },
  {
   "cell_type": "code",
   "execution_count": 9,
   "metadata": {},
   "outputs": [
    {
     "data": {
      "text/html": [
       "<div>\n",
       "<style scoped>\n",
       "    .dataframe tbody tr th:only-of-type {\n",
       "        vertical-align: middle;\n",
       "    }\n",
       "\n",
       "    .dataframe tbody tr th {\n",
       "        vertical-align: top;\n",
       "    }\n",
       "\n",
       "    .dataframe thead th {\n",
       "        text-align: right;\n",
       "    }\n",
       "</style>\n",
       "<table border=\"1\" class=\"dataframe\">\n",
       "  <thead>\n",
       "    <tr style=\"text-align: right;\">\n",
       "      <th></th>\n",
       "      <th>IBGE</th>\n",
       "      <th>INE</th>\n",
       "      <th>CNES_FINAL</th>\n",
       "      <th>DATA</th>\n",
       "      <th>III.13.7.3</th>\n",
       "    </tr>\n",
       "  </thead>\n",
       "  <tbody>\n",
       "    <tr>\n",
       "      <th>0</th>\n",
       "      <td>120001</td>\n",
       "      <td>4294</td>\n",
       "      <td>3006166</td>\n",
       "      <td>2017-10-16 11:50:54.137000+00:00</td>\n",
       "      <td>9997</td>\n",
       "    </tr>\n",
       "    <tr>\n",
       "      <th>1</th>\n",
       "      <td>120001</td>\n",
       "      <td>4294</td>\n",
       "      <td>3006166</td>\n",
       "      <td>2017-10-16 11:51:12.654000+00:00</td>\n",
       "      <td>9997</td>\n",
       "    </tr>\n",
       "    <tr>\n",
       "      <th>2</th>\n",
       "      <td>120001</td>\n",
       "      <td>4294</td>\n",
       "      <td>3006166</td>\n",
       "      <td>2017-10-16 11:51:22.096000+00:00</td>\n",
       "      <td>9997</td>\n",
       "    </tr>\n",
       "    <tr>\n",
       "      <th>3</th>\n",
       "      <td>120001</td>\n",
       "      <td>4294</td>\n",
       "      <td>3006166</td>\n",
       "      <td>2017-10-16 11:50:42.849000+00:00</td>\n",
       "      <td>9997</td>\n",
       "    </tr>\n",
       "    <tr>\n",
       "      <th>4</th>\n",
       "      <td>120001</td>\n",
       "      <td>4316</td>\n",
       "      <td>3382745</td>\n",
       "      <td>2017-10-16 11:54:14.817000+00:00</td>\n",
       "      <td>998</td>\n",
       "    </tr>\n",
       "  </tbody>\n",
       "</table>\n",
       "</div>"
      ],
      "text/plain": [
       "     IBGE   INE CNES_FINAL                             DATA  III.13.7.3\n",
       "0  120001  4294    3006166 2017-10-16 11:50:54.137000+00:00        9997\n",
       "1  120001  4294    3006166 2017-10-16 11:51:12.654000+00:00        9997\n",
       "2  120001  4294    3006166 2017-10-16 11:51:22.096000+00:00        9997\n",
       "3  120001  4294    3006166 2017-10-16 11:50:42.849000+00:00        9997\n",
       "4  120001  4316    3382745 2017-10-16 11:54:14.817000+00:00         998"
      ]
     },
     "execution_count": 9,
     "metadata": {},
     "output_type": "execute_result"
    }
   ],
   "source": [
    "m3 = pd.read_csv('../data/BANCO_PMAQ/M_III.csv', usecols=['IBGE', 'CNES_FINAL', 'INE', 'DATA', 'III.13.7.3'], sep=';', parse_dates=['DATA'])\n",
    "\n",
    "m3.head()"
   ]
  },
  {
   "cell_type": "code",
   "execution_count": 12,
   "metadata": {},
   "outputs": [
    {
     "name": "stdout",
     "output_type": "stream",
     "text": [
      "<class 'pandas.core.frame.DataFrame'>\n",
      "RangeIndex: 157497 entries, 0 to 157496\n",
      "Data columns (total 5 columns):\n",
      "IBGE          157497 non-null int64\n",
      "INE           157497 non-null int64\n",
      "CNES_FINAL    157497 non-null object\n",
      "DATA          157497 non-null datetime64[ns, UTC]\n",
      "III.13.7.3    157497 non-null int64\n",
      "dtypes: datetime64[ns, UTC](1), int64(3), object(1)\n",
      "memory usage: 6.0+ MB\n"
     ]
    }
   ],
   "source": [
    "m3.info()"
   ]
  },
  {
   "cell_type": "markdown",
   "metadata": {},
   "source": [
    "Com os módulos carregados, vamos filtrar apenas as respostas de Natal"
   ]
  },
  {
   "cell_type": "code",
   "execution_count": 13,
   "metadata": {},
   "outputs": [
    {
     "name": "stdout",
     "output_type": "stream",
     "text": [
      "<class 'pandas.core.frame.DataFrame'>\n",
      "Int64Index: 42 entries, 22251 to 22292\n",
      "Data columns (total 6 columns):\n",
      "IBGE          42 non-null int64\n",
      "CNES_FINAL    42 non-null object\n",
      "DATA          42 non-null datetime64[ns, UTC]\n",
      "I.11.1        42 non-null int64\n",
      "I.15.9.3      42 non-null int64\n",
      "I.15.9.4      42 non-null int64\n",
      "dtypes: datetime64[ns, UTC](1), int64(4), object(1)\n",
      "memory usage: 2.3+ KB\n"
     ]
    }
   ],
   "source": [
    "m1_natal = m1.query('IBGE == 240810')\n",
    "\n",
    "m1_natal.info()"
   ]
  },
  {
   "cell_type": "code",
   "execution_count": 16,
   "metadata": {},
   "outputs": [
    {
     "name": "stdout",
     "output_type": "stream",
     "text": [
      "<class 'pandas.core.frame.DataFrame'>\n",
      "Int64Index: 121 entries, 28650 to 28770\n",
      "Data columns (total 6 columns):\n",
      "IBGE          121 non-null int64\n",
      "INE           121 non-null int64\n",
      "CNES_FINAL    121 non-null object\n",
      "DATA          121 non-null datetime64[ns, UTC]\n",
      "II.12.1.7     121 non-null int64\n",
      "II.15.13      121 non-null int64\n",
      "dtypes: datetime64[ns, UTC](1), int64(4), object(1)\n",
      "memory usage: 6.6+ KB\n"
     ]
    }
   ],
   "source": [
    "m2_natal = m2.query('IBGE == 240810')\n",
    "\n",
    "m2_natal.info()"
   ]
  },
  {
   "cell_type": "code",
   "execution_count": 17,
   "metadata": {},
   "outputs": [
    {
     "name": "stdout",
     "output_type": "stream",
     "text": [
      "<class 'pandas.core.frame.DataFrame'>\n",
      "Int64Index: 495 entries, 115946 to 116440\n",
      "Data columns (total 5 columns):\n",
      "IBGE          495 non-null int64\n",
      "INE           495 non-null int64\n",
      "CNES_FINAL    495 non-null object\n",
      "DATA          495 non-null datetime64[ns, UTC]\n",
      "III.13.7.3    495 non-null int64\n",
      "dtypes: datetime64[ns, UTC](1), int64(3), object(1)\n",
      "memory usage: 23.2+ KB\n"
     ]
    }
   ],
   "source": [
    "m3_natal = m3.query('IBGE == 240810')\n",
    "\n",
    "m3_natal.info()"
   ]
  },
  {
   "cell_type": "markdown",
   "metadata": {},
   "source": []
  }
 ],
 "metadata": {
  "kernelspec": {
   "display_name": "Python 3",
   "language": "python",
   "name": "python3"
  },
  "language_info": {
   "codemirror_mode": {
    "name": "ipython",
    "version": 3
   },
   "file_extension": ".py",
   "mimetype": "text/x-python",
   "name": "python",
   "nbconvert_exporter": "python",
   "pygments_lexer": "ipython3",
   "version": "3.7.3"
  }
 },
 "nbformat": 4,
 "nbformat_minor": 4
}
