{
 "cells": [
  {
   "cell_type": "code",
   "execution_count": 2,
   "metadata": {},
   "outputs": [],
   "source": [
    "import pandas as pd\n",
    "import numpy as np\n",
    "\n",
    "from sklearn.preprocessing import LabelEncoder, StandardScaler"
   ]
  },
  {
   "cell_type": "code",
   "execution_count": 15,
   "metadata": {},
   "outputs": [],
   "source": [
    "df = pd.read_csv('../data/SINAN/SifGestante_2007_2017_Long.csv', sep=';')"
   ]
  },
  {
   "cell_type": "markdown",
   "metadata": {},
   "source": [
    "## Limpeza\n",
    "\n",
    "Seguindo as observações do notebook 5.0"
   ]
  },
  {
   "cell_type": "code",
   "execution_count": 17,
   "metadata": {},
   "outputs": [],
   "source": [
    "# colunas nulas\n",
    "nulls = ['sem_diag']\n",
    "\n",
    "# colunas cujos valores repetem ou não são uteis\n",
    "ignorable = [ 'cs_sexo',  'id_agravo', 'id_ocupa_n',\n",
    "             'id_regiona', 'id_unidade', 'pre_munire', \n",
    "            'pre_sispre', 'pre_ufrel', 'pre_unipre', 'dstitulo1',\n",
    "             'UFRES', 'id_mn_resi',\n",
    "            # não sao uteis ( id, nome, data de nascimentos)\n",
    "             'ctrlsifgn', 'dt_nasc', 'nu_idade', 'nu_idade_n',\n",
    "             # muitos valores nulos\n",
    "             'dsmotivo',\n",
    "             #correlação\n",
    "             'ANODIAG', 'FXETARIA', 'tpesqpar'\n",
    "            ]\n",
    "\n",
    "labels = nulls + ignorable\n",
    "cleaned_df = df.drop(labels=labels, axis='columns')"
   ]
  },
  {
   "cell_type": "code",
   "execution_count": 18,
   "metadata": {},
   "outputs": [
    {
     "name": "stdout",
     "output_type": "stream",
     "text": [
      "<class 'pandas.core.frame.DataFrame'>\n",
      "RangeIndex: 195218 entries, 0 to 195217\n",
      "Data columns (total 16 columns):\n",
      "dt_notific    195218 non-null object\n",
      "nu_ano        195218 non-null int64\n",
      "sg_uf_not     195218 non-null int64\n",
      "id_municip    195218 non-null int64\n",
      "dt_diag       195218 non-null object\n",
      "cs_gestant    195218 non-null int64\n",
      "cs_raca       195218 non-null int64\n",
      "cs_escol_n    195218 non-null int64\n",
      "cs_zona       195218 non-null int64\n",
      "id_pais       195218 non-null int64\n",
      "CLASSCLIN     195218 non-null int64\n",
      "tpteste1      195218 non-null int64\n",
      "tpconfirma    195218 non-null int64\n",
      "ESQ_TRAT      195218 non-null int64\n",
      "tratparc      195218 non-null int64\n",
      "tpmotparc     195218 non-null int64\n",
      "dtypes: int64(14), object(2)\n",
      "memory usage: 23.8+ MB\n"
     ]
    }
   ],
   "source": [
    "cleaned_df.replace('\\s+', np.nan, regex=True, inplace=True)\n",
    "cleaned_df.info()"
   ]
  },
  {
   "cell_type": "code",
   "execution_count": 20,
   "metadata": {},
   "outputs": [],
   "source": [
    "cleaned_df.dt_notific = pd.to_datetime(cleaned_df.dt_notific,\n",
    "                                           format='%m/%d/%Y')"
   ]
  },
  {
   "cell_type": "code",
   "execution_count": 21,
   "metadata": {},
   "outputs": [],
   "source": [
    "cleaned_df.to_csv('../data/gestante.csv', sep=';')"
   ]
  }
 ],
 "metadata": {
  "kernelspec": {
   "display_name": "Python 3",
   "language": "python",
   "name": "python3"
  },
  "language_info": {
   "codemirror_mode": {
    "name": "ipython",
    "version": 3
   },
   "file_extension": ".py",
   "mimetype": "text/x-python",
   "name": "python",
   "nbconvert_exporter": "python",
   "pygments_lexer": "ipython3",
   "version": "3.6.9"
  }
 },
 "nbformat": 4,
 "nbformat_minor": 2
}
