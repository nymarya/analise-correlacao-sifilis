{
 "cells": [
  {
   "cell_type": "markdown",
   "metadata": {},
   "source": [
    "# Cleaning"
   ]
  },
  {
   "cell_type": "code",
   "execution_count": 16,
   "metadata": {},
   "outputs": [],
   "source": [
    "# imports \n",
    "import seaborn as sns\n",
    "import pandas as pd\n",
    "import numpy as np\n",
    "\n",
    "from sklearn.preprocessing import LabelEncoder, StandardScaler"
   ]
  },
  {
   "cell_type": "code",
   "execution_count": 2,
   "metadata": {},
   "outputs": [
    {
     "name": "stderr",
     "output_type": "stream",
     "text": [
      "/Users/mayradazvd/workspace/alaunus/lib/python3.7/site-packages/IPython/core/interactiveshell.py:3051: DtypeWarning: Columns (7,10,19,20,43) have mixed types. Specify dtype option on import or set low_memory=False.\n",
      "  interactivity=interactivity, compiler=compiler, result=result)\n"
     ]
    }
   ],
   "source": [
    "df = pd.read_csv('../data/SINAN/SifAquirida_2010_2017_Long.csv', sep=';')"
   ]
  },
  {
   "cell_type": "code",
   "execution_count": 3,
   "metadata": {},
   "outputs": [],
   "source": [
    "# remove irrelevant columns\n",
    "\n",
    "# null columns\n",
    "nulls = ['in_vincula', 'id_ocupa_n', 'codisinf', 'co_usucad','tpuninot']\n",
    "\n",
    "# ignorable (repetitive or something like that)\n",
    "ignorable = [ 'nu_idade_ant_string', 'ctrlsifan', 'id_agravo', \n",
    "             'tp_sistema', 'nobaiinf', 'id_pais', 'dt_diagnostico',\n",
    "            # no significant information (as id, name, birth date)\n",
    "             'dt_nasc',\n",
    "             # many missing values\n",
    "             'co_usualt',\n",
    "            ]\n",
    "\n",
    "labels = nulls + ignorable\n",
    "df_clean = df.drop(labels=labels, axis='columns')"
   ]
  },
  {
   "cell_type": "markdown",
   "metadata": {},
   "source": [
    "After droping the columns, we must process both numeric and textual values."
   ]
  },
  {
   "cell_type": "code",
   "execution_count": 4,
   "metadata": {},
   "outputs": [
    {
     "data": {
      "text/plain": [
       "1    149883\n",
       "9     67423\n",
       "3       348\n",
       "2       121\n",
       "Name: evolucao, dtype: int64"
      ]
     },
     "execution_count": 4,
     "metadata": {},
     "output_type": "execute_result"
    }
   ],
   "source": [
    "# change empty string to missing values\n",
    "df_clean.replace('\\s+', np.nan, regex=True, inplace=True)\n",
    "\n",
    "# Asserting it worked\n",
    "df_clean.evolucao.value_counts()"
   ]
  },
  {
   "cell_type": "code",
   "execution_count": 5,
   "metadata": {},
   "outputs": [],
   "source": [
    "# categorical data as lowercase\n",
    "# categorical = ['co_usualt']\n",
    "\n",
    "# for category in categorical:\n",
    "#     df_clean[category] = df_clean.iloc[:,df_clean.columns.get_loc(category)].str.lower() \n",
    "    \n",
    "# df_clean.co_usualt.value_counts().head()"
   ]
  },
  {
   "cell_type": "code",
   "execution_count": 6,
   "metadata": {},
   "outputs": [
    {
     "name": "stdout",
     "output_type": "stream",
     "text": [
      "<class 'pandas.core.frame.DataFrame'>\n",
      "RangeIndex: 344358 entries, 0 to 344357\n",
      "Data columns (total 33 columns):\n",
      "dt_notific    344355 non-null object\n",
      "sem_not       344355 non-null float64\n",
      "nu_ano        342531 non-null float64\n",
      "anodiag       342531 non-null float64\n",
      "sg_uf_not     342530 non-null object\n",
      "id_municip    342531 non-null float64\n",
      "id_regiona    313840 non-null object\n",
      "id_unidade    342523 non-null object\n",
      "UFRES         342531 non-null float64\n",
      "id_mn_resi    342531 non-null float64\n",
      "dt_diag       342531 non-null object\n",
      "sem_pri       342531 non-null float64\n",
      "nu_idade_n    342531 non-null float64\n",
      "FXETARIA      342531 non-null float64\n",
      "SEXO          342531 non-null float64\n",
      "cs_gestant    342524 non-null object\n",
      "cs_raca       335034 non-null object\n",
      "cs_escol_n    316785 non-null object\n",
      "cs_zona       331169 non-null object\n",
      "dt_invest     243189 non-null object\n",
      "classi_fin    329125 non-null object\n",
      "criterio      231979 non-null object\n",
      "tpautocto     232044 non-null object\n",
      "coufinf       147160 non-null object\n",
      "copaisinf     342531 non-null float64\n",
      "comuninf      146911 non-null object\n",
      "co_bainfc     342531 non-null float64\n",
      "doenca_tra    217346 non-null object\n",
      "evolucao      217775 non-null object\n",
      "dt_obito      299 non-null object\n",
      "dt_encerra    329126 non-null object\n",
      "flxrecebi     342531 non-null float64\n",
      "nu_idade      340707 non-null float64\n",
      "dtypes: float64(14), object(19)\n",
      "memory usage: 86.7+ MB\n"
     ]
    }
   ],
   "source": [
    "df_clean.info()"
   ]
  },
  {
   "cell_type": "markdown",
   "metadata": {},
   "source": [
    "Before taking the last steps of preprocessing, we need to erase the nan values. Otherwise the methods of conversion and labeling won't work."
   ]
  },
  {
   "cell_type": "code",
   "execution_count": 7,
   "metadata": {},
   "outputs": [],
   "source": [
    "# convert columns that are numeric but have string values\n",
    "not_categorical = ['cs_gestant', 'cs_raca', 'cs_escol_n', 'cs_zona', \n",
    "          'tpautocto', 'classi_fin', 'criterio', 'evolucao', \n",
    "          'doenca_tra', 'sg_uf_not', 'id_regiona', 'id_unidade', 'coufinf',\n",
    "          'comuninf']\n",
    "\n",
    "df_clean.dropna(inplace=True, axis='rows', subset=not_categorical)\n",
    "\n",
    "df_clean.loc[:,not_categorical] = df_clean.loc[:,not_categorical].astype('int64')"
   ]
  },
  {
   "cell_type": "code",
   "execution_count": 8,
   "metadata": {},
   "outputs": [
    {
     "name": "stdout",
     "output_type": "stream",
     "text": [
      "<class 'pandas.core.frame.DataFrame'>\n",
      "Int64Index: 117791 entries, 2 to 344352\n",
      "Data columns (total 33 columns):\n",
      "dt_notific    117791 non-null object\n",
      "sem_not       117791 non-null float64\n",
      "nu_ano        117791 non-null float64\n",
      "anodiag       117791 non-null float64\n",
      "sg_uf_not     117791 non-null int64\n",
      "id_municip    117791 non-null float64\n",
      "id_regiona    117791 non-null int64\n",
      "id_unidade    117791 non-null int64\n",
      "UFRES         117791 non-null float64\n",
      "id_mn_resi    117791 non-null float64\n",
      "dt_diag       117791 non-null object\n",
      "sem_pri       117791 non-null float64\n",
      "nu_idade_n    117791 non-null float64\n",
      "FXETARIA      117791 non-null float64\n",
      "SEXO          117791 non-null float64\n",
      "cs_gestant    117791 non-null int64\n",
      "cs_raca       117791 non-null int64\n",
      "cs_escol_n    117791 non-null int64\n",
      "cs_zona       117791 non-null int64\n",
      "dt_invest     117791 non-null object\n",
      "classi_fin    117791 non-null int64\n",
      "criterio      117791 non-null int64\n",
      "tpautocto     117791 non-null int64\n",
      "coufinf       117791 non-null int64\n",
      "copaisinf     117791 non-null float64\n",
      "comuninf      117791 non-null int64\n",
      "co_bainfc     117791 non-null float64\n",
      "doenca_tra    117791 non-null int64\n",
      "evolucao      117791 non-null int64\n",
      "dt_obito      141 non-null object\n",
      "dt_encerra    117791 non-null object\n",
      "flxrecebi     117791 non-null float64\n",
      "nu_idade      117170 non-null float64\n",
      "dtypes: float64(14), int64(14), object(5)\n",
      "memory usage: 30.6+ MB\n"
     ]
    }
   ],
   "source": [
    "df_clean.info()"
   ]
  },
  {
   "cell_type": "code",
   "execution_count": 9,
   "metadata": {},
   "outputs": [
    {
     "data": {
      "text/plain": [
       "2         False\n",
       "5         False\n",
       "9         False\n",
       "10        False\n",
       "15        False\n",
       "          ...  \n",
       "344340    False\n",
       "344348    False\n",
       "344349    False\n",
       "344350    False\n",
       "344352    False\n",
       "Name: obito, Length: 117791, dtype: bool"
      ]
     },
     "execution_count": 9,
     "metadata": {},
     "output_type": "execute_result"
    }
   ],
   "source": [
    "# re-arrange dt_obito\n",
    "df_clean['obito'] = df_clean.dt_obito.notna()\n",
    "df_clean.drop(labels=['dt_obito'], axis='columns', inplace=True)\n",
    "\n",
    "df_clean.obito"
   ]
  },
  {
   "cell_type": "code",
   "execution_count": 10,
   "metadata": {},
   "outputs": [
    {
     "name": "stdout",
     "output_type": "stream",
     "text": [
      "<class 'pandas.core.frame.DataFrame'>\n",
      "Int64Index: 117791 entries, 2 to 344352\n",
      "Data columns (total 33 columns):\n",
      "dt_notific    117791 non-null object\n",
      "sem_not       117791 non-null float64\n",
      "nu_ano        117791 non-null float64\n",
      "anodiag       117791 non-null float64\n",
      "sg_uf_not     117791 non-null int64\n",
      "id_municip    117791 non-null float64\n",
      "id_regiona    117791 non-null int64\n",
      "id_unidade    117791 non-null int64\n",
      "UFRES         117791 non-null float64\n",
      "id_mn_resi    117791 non-null float64\n",
      "dt_diag       117791 non-null object\n",
      "sem_pri       117791 non-null float64\n",
      "nu_idade_n    117791 non-null float64\n",
      "FXETARIA      117791 non-null float64\n",
      "SEXO          117791 non-null float64\n",
      "cs_gestant    117791 non-null int64\n",
      "cs_raca       117791 non-null int64\n",
      "cs_escol_n    117791 non-null int64\n",
      "cs_zona       117791 non-null int64\n",
      "dt_invest     117791 non-null object\n",
      "classi_fin    117791 non-null int64\n",
      "criterio      117791 non-null int64\n",
      "tpautocto     117791 non-null int64\n",
      "coufinf       117791 non-null int64\n",
      "copaisinf     117791 non-null float64\n",
      "comuninf      117791 non-null int64\n",
      "co_bainfc     117791 non-null float64\n",
      "doenca_tra    117791 non-null int64\n",
      "evolucao      117791 non-null int64\n",
      "dt_encerra    117791 non-null object\n",
      "flxrecebi     117791 non-null float64\n",
      "nu_idade      117170 non-null float64\n",
      "obito         117791 non-null bool\n",
      "dtypes: bool(1), float64(14), int64(14), object(4)\n",
      "memory usage: 29.8+ MB\n"
     ]
    }
   ],
   "source": [
    "df_clean.info()"
   ]
  },
  {
   "cell_type": "markdown",
   "metadata": {},
   "source": [
    "## Final preprocessing\n"
   ]
  },
  {
   "cell_type": "code",
   "execution_count": 11,
   "metadata": {},
   "outputs": [
    {
     "data": {
      "text/plain": [
       "Index(['dt_notific', 'dt_diag', 'dt_invest', 'dt_encerra'], dtype='object')"
      ]
     },
     "execution_count": 11,
     "metadata": {},
     "output_type": "execute_result"
    }
   ],
   "source": [
    "# test select columns by type\n",
    "df_clean.select_dtypes(include='object').columns"
   ]
  },
  {
   "cell_type": "code",
   "execution_count": 12,
   "metadata": {},
   "outputs": [
    {
     "name": "stdout",
     "output_type": "stream",
     "text": [
      "dt_notific\n",
      "2          4/29/2010\n",
      "5         12/16/2010\n",
      "9          5/25/2011\n",
      "10         6/16/2011\n",
      "15         4/26/2012\n",
      "             ...    \n",
      "344340     8/10/2017\n",
      "344348     8/11/2017\n",
      "344349     8/11/2017\n",
      "344350     8/11/2017\n",
      "344352     8/11/2017\n",
      "Name: dt_notific, Length: 117791, dtype: object\n",
      "dt_diag\n",
      "2          1/1/2010\n",
      "5          1/1/2010\n",
      "9          1/1/2010\n",
      "10         1/1/2010\n",
      "15         1/1/2010\n",
      "            ...    \n",
      "344340    8/10/2017\n",
      "344348    8/11/2017\n",
      "344349    8/11/2017\n",
      "344350    8/11/2017\n",
      "344352    8/11/2017\n",
      "Name: dt_diag, Length: 117791, dtype: object\n",
      "dt_invest\n",
      "2          4/29/2010\n",
      "5         12/16/2010\n",
      "9          5/25/2011\n",
      "10         6/16/2011\n",
      "15         4/26/2012\n",
      "             ...    \n",
      "344340     8/10/2017\n",
      "344348     8/11/2017\n",
      "344349     8/11/2017\n",
      "344350     8/11/2017\n",
      "344352     8/11/2017\n",
      "Name: dt_invest, Length: 117791, dtype: object\n",
      "dt_encerra\n",
      "2          4/29/2010\n",
      "5         12/16/2010\n",
      "9         10/15/2012\n",
      "10         6/21/2011\n",
      "15         5/28/2012\n",
      "             ...    \n",
      "344340     8/14/2017\n",
      "344348     8/14/2017\n",
      "344349     8/14/2017\n",
      "344350     8/14/2017\n",
      "344352     8/11/2017\n",
      "Name: dt_encerra, Length: 117791, dtype: object\n"
     ]
    },
    {
     "name": "stderr",
     "output_type": "stream",
     "text": [
      "/Users/mayradazvd/workspace/alaunus/lib/python3.7/site-packages/pandas/core/frame.py:4259: SettingWithCopyWarning: \n",
      "A value is trying to be set on a copy of a slice from a DataFrame\n",
      "\n",
      "See the caveats in the documentation: http://pandas.pydata.org/pandas-docs/stable/user_guide/indexing.html#returning-a-view-versus-a-copy\n",
      "  **kwargs\n"
     ]
    }
   ],
   "source": [
    "categorical = df_clean.select_dtypes(include='object').columns\n",
    "df_clean[categorical].fillna(' ', inplace=True)\n",
    "\n",
    "df_clean.dropna(subset=['dt_invest'], axis='rows', inplace=True)\n",
    "\n",
    "\n",
    "for category in categorical:\n",
    "    label_enc = LabelEncoder()\n",
    "    print(category)\n",
    "    print(df_clean[category])\n",
    "    labels = label_enc.fit_transform(df_clean[category])\n",
    "    df_clean[category] = labels"
   ]
  },
  {
   "cell_type": "code",
   "execution_count": 13,
   "metadata": {},
   "outputs": [
    {
     "name": "stdout",
     "output_type": "stream",
     "text": [
      "<class 'pandas.core.frame.DataFrame'>\n",
      "Int64Index: 117791 entries, 2 to 344352\n",
      "Data columns (total 33 columns):\n",
      "dt_notific    117791 non-null int64\n",
      "sem_not       117791 non-null float64\n",
      "nu_ano        117791 non-null float64\n",
      "anodiag       117791 non-null float64\n",
      "sg_uf_not     117791 non-null int64\n",
      "id_municip    117791 non-null float64\n",
      "id_regiona    117791 non-null int64\n",
      "id_unidade    117791 non-null int64\n",
      "UFRES         117791 non-null float64\n",
      "id_mn_resi    117791 non-null float64\n",
      "dt_diag       117791 non-null int64\n",
      "sem_pri       117791 non-null float64\n",
      "nu_idade_n    117791 non-null float64\n",
      "FXETARIA      117791 non-null float64\n",
      "SEXO          117791 non-null float64\n",
      "cs_gestant    117791 non-null int64\n",
      "cs_raca       117791 non-null int64\n",
      "cs_escol_n    117791 non-null int64\n",
      "cs_zona       117791 non-null int64\n",
      "dt_invest     117791 non-null int64\n",
      "classi_fin    117791 non-null int64\n",
      "criterio      117791 non-null int64\n",
      "tpautocto     117791 non-null int64\n",
      "coufinf       117791 non-null int64\n",
      "copaisinf     117791 non-null float64\n",
      "comuninf      117791 non-null int64\n",
      "co_bainfc     117791 non-null float64\n",
      "doenca_tra    117791 non-null int64\n",
      "evolucao      117791 non-null int64\n",
      "dt_encerra    117791 non-null int64\n",
      "flxrecebi     117791 non-null float64\n",
      "nu_idade      117170 non-null float64\n",
      "obito         117791 non-null bool\n",
      "dtypes: bool(1), float64(14), int64(18)\n",
      "memory usage: 29.8 MB\n"
     ]
    }
   ],
   "source": [
    "# check\n",
    "df_clean.info()"
   ]
  },
  {
   "cell_type": "markdown",
   "metadata": {},
   "source": [
    "Finally, we normalize the data."
   ]
  },
  {
   "cell_type": "code",
   "execution_count": 19,
   "metadata": {},
   "outputs": [
    {
     "data": {
      "text/html": [
       "<div>\n",
       "<style scoped>\n",
       "    .dataframe tbody tr th:only-of-type {\n",
       "        vertical-align: middle;\n",
       "    }\n",
       "\n",
       "    .dataframe tbody tr th {\n",
       "        vertical-align: top;\n",
       "    }\n",
       "\n",
       "    .dataframe thead th {\n",
       "        text-align: right;\n",
       "    }\n",
       "</style>\n",
       "<table border=\"1\" class=\"dataframe\">\n",
       "  <thead>\n",
       "    <tr style=\"text-align: right;\">\n",
       "      <th></th>\n",
       "      <th>dt_notific</th>\n",
       "      <th>sem_not</th>\n",
       "      <th>nu_ano</th>\n",
       "      <th>anodiag</th>\n",
       "      <th>sg_uf_not</th>\n",
       "      <th>id_municip</th>\n",
       "      <th>id_regiona</th>\n",
       "      <th>id_unidade</th>\n",
       "      <th>UFRES</th>\n",
       "      <th>id_mn_resi</th>\n",
       "      <th>...</th>\n",
       "      <th>coufinf</th>\n",
       "      <th>copaisinf</th>\n",
       "      <th>comuninf</th>\n",
       "      <th>co_bainfc</th>\n",
       "      <th>doenca_tra</th>\n",
       "      <th>evolucao</th>\n",
       "      <th>dt_encerra</th>\n",
       "      <th>flxrecebi</th>\n",
       "      <th>nu_idade</th>\n",
       "      <th>obito</th>\n",
       "    </tr>\n",
       "  </thead>\n",
       "  <tbody>\n",
       "    <tr>\n",
       "      <th>0</th>\n",
       "      <td>0.157223</td>\n",
       "      <td>0.010950</td>\n",
       "      <td>-2.785952</td>\n",
       "      <td>-2.689504</td>\n",
       "      <td>-0.666427</td>\n",
       "      <td>-0.692168</td>\n",
       "      <td>-0.140795</td>\n",
       "      <td>-0.512813</td>\n",
       "      <td>-0.665904</td>\n",
       "      <td>-0.692282</td>\n",
       "      <td>...</td>\n",
       "      <td>-0.665417</td>\n",
       "      <td>0.0</td>\n",
       "      <td>-0.691688</td>\n",
       "      <td>-0.094565</td>\n",
       "      <td>3.364852</td>\n",
       "      <td>-0.536474</td>\n",
       "      <td>0.123166</td>\n",
       "      <td>0.021016</td>\n",
       "      <td>-0.789577</td>\n",
       "      <td>-0.034619</td>\n",
       "    </tr>\n",
       "    <tr>\n",
       "      <th>1</th>\n",
       "      <td>-0.856621</td>\n",
       "      <td>0.013945</td>\n",
       "      <td>-2.785952</td>\n",
       "      <td>-2.689504</td>\n",
       "      <td>-0.076911</td>\n",
       "      <td>-0.097385</td>\n",
       "      <td>-0.296784</td>\n",
       "      <td>-0.165826</td>\n",
       "      <td>-0.076514</td>\n",
       "      <td>-0.097467</td>\n",
       "      <td>...</td>\n",
       "      <td>-0.076270</td>\n",
       "      <td>0.0</td>\n",
       "      <td>-0.097177</td>\n",
       "      <td>-0.094565</td>\n",
       "      <td>-0.290283</td>\n",
       "      <td>-0.536474</td>\n",
       "      <td>-0.882274</td>\n",
       "      <td>0.021016</td>\n",
       "      <td>1.257864</td>\n",
       "      <td>-0.034619</td>\n",
       "    </tr>\n",
       "    <tr>\n",
       "      <th>2</th>\n",
       "      <td>0.417925</td>\n",
       "      <td>0.020390</td>\n",
       "      <td>-2.203431</td>\n",
       "      <td>-2.689504</td>\n",
       "      <td>-0.076911</td>\n",
       "      <td>-0.034217</td>\n",
       "      <td>-0.327338</td>\n",
       "      <td>-0.175799</td>\n",
       "      <td>-0.076514</td>\n",
       "      <td>-0.034296</td>\n",
       "      <td>...</td>\n",
       "      <td>-0.076270</td>\n",
       "      <td>0.0</td>\n",
       "      <td>-0.034038</td>\n",
       "      <td>-0.094565</td>\n",
       "      <td>-0.290283</td>\n",
       "      <td>-0.536474</td>\n",
       "      <td>-1.437727</td>\n",
       "      <td>0.021016</td>\n",
       "      <td>0.267167</td>\n",
       "      <td>-0.034619</td>\n",
       "    </tr>\n",
       "    <tr>\n",
       "      <th>3</th>\n",
       "      <td>0.627591</td>\n",
       "      <td>0.020662</td>\n",
       "      <td>-2.203431</td>\n",
       "      <td>-2.689504</td>\n",
       "      <td>-0.076911</td>\n",
       "      <td>-0.037464</td>\n",
       "      <td>-0.330554</td>\n",
       "      <td>-0.168189</td>\n",
       "      <td>-0.076514</td>\n",
       "      <td>-0.037543</td>\n",
       "      <td>...</td>\n",
       "      <td>-0.076270</td>\n",
       "      <td>0.0</td>\n",
       "      <td>-0.037283</td>\n",
       "      <td>-0.088081</td>\n",
       "      <td>-0.290283</td>\n",
       "      <td>1.867194</td>\n",
       "      <td>0.656119</td>\n",
       "      <td>0.021016</td>\n",
       "      <td>1.257864</td>\n",
       "      <td>-0.034619</td>\n",
       "    </tr>\n",
       "    <tr>\n",
       "      <th>4</th>\n",
       "      <td>0.128256</td>\n",
       "      <td>0.029103</td>\n",
       "      <td>-1.620911</td>\n",
       "      <td>-2.689504</td>\n",
       "      <td>-0.076911</td>\n",
       "      <td>-0.068900</td>\n",
       "      <td>-0.309649</td>\n",
       "      <td>-0.205294</td>\n",
       "      <td>-0.076514</td>\n",
       "      <td>-0.068981</td>\n",
       "      <td>...</td>\n",
       "      <td>-0.076270</td>\n",
       "      <td>0.0</td>\n",
       "      <td>-0.068706</td>\n",
       "      <td>-0.094565</td>\n",
       "      <td>-0.290283</td>\n",
       "      <td>-0.536474</td>\n",
       "      <td>0.418470</td>\n",
       "      <td>0.021016</td>\n",
       "      <td>-0.921670</td>\n",
       "      <td>-0.034619</td>\n",
       "    </tr>\n",
       "  </tbody>\n",
       "</table>\n",
       "<p>5 rows × 33 columns</p>\n",
       "</div>"
      ],
      "text/plain": [
       "   dt_notific   sem_not    nu_ano   anodiag  sg_uf_not  id_municip  \\\n",
       "0    0.157223  0.010950 -2.785952 -2.689504  -0.666427   -0.692168   \n",
       "1   -0.856621  0.013945 -2.785952 -2.689504  -0.076911   -0.097385   \n",
       "2    0.417925  0.020390 -2.203431 -2.689504  -0.076911   -0.034217   \n",
       "3    0.627591  0.020662 -2.203431 -2.689504  -0.076911   -0.037464   \n",
       "4    0.128256  0.029103 -1.620911 -2.689504  -0.076911   -0.068900   \n",
       "\n",
       "   id_regiona  id_unidade     UFRES  id_mn_resi  ...   coufinf  copaisinf  \\\n",
       "0   -0.140795   -0.512813 -0.665904   -0.692282  ... -0.665417        0.0   \n",
       "1   -0.296784   -0.165826 -0.076514   -0.097467  ... -0.076270        0.0   \n",
       "2   -0.327338   -0.175799 -0.076514   -0.034296  ... -0.076270        0.0   \n",
       "3   -0.330554   -0.168189 -0.076514   -0.037543  ... -0.076270        0.0   \n",
       "4   -0.309649   -0.205294 -0.076514   -0.068981  ... -0.076270        0.0   \n",
       "\n",
       "   comuninf  co_bainfc  doenca_tra  evolucao  dt_encerra  flxrecebi  nu_idade  \\\n",
       "0 -0.691688  -0.094565    3.364852 -0.536474    0.123166   0.021016 -0.789577   \n",
       "1 -0.097177  -0.094565   -0.290283 -0.536474   -0.882274   0.021016  1.257864   \n",
       "2 -0.034038  -0.094565   -0.290283 -0.536474   -1.437727   0.021016  0.267167   \n",
       "3 -0.037283  -0.088081   -0.290283  1.867194    0.656119   0.021016  1.257864   \n",
       "4 -0.068706  -0.094565   -0.290283 -0.536474    0.418470   0.021016 -0.921670   \n",
       "\n",
       "      obito  \n",
       "0 -0.034619  \n",
       "1 -0.034619  \n",
       "2 -0.034619  \n",
       "3 -0.034619  \n",
       "4 -0.034619  \n",
       "\n",
       "[5 rows x 33 columns]"
      ]
     },
     "execution_count": 19,
     "metadata": {},
     "output_type": "execute_result"
    }
   ],
   "source": [
    "scaler = StandardScaler()\n",
    "data = scaler.fit_transform(df_clean.values)\n",
    "    \n",
    "    \n",
    "# transform to df agagin\n",
    "data_df = pd.DataFrame(data)\n",
    "data_df.columns = df_clean.columns\n",
    "    \n",
    "# check the result\n",
    "data_df.head()"
   ]
  },
  {
   "cell_type": "markdown",
   "metadata": {},
   "source": [
    "There are still 33 columns. probably, some have redundant data that can be identified using correlation"
   ]
  },
  {
   "cell_type": "code",
   "execution_count": 20,
   "metadata": {},
   "outputs": [
    {
     "name": "stdout",
     "output_type": "stream",
     "text": [
      "dt_notific, dt_invest (0.9825902797965169)\n",
      "dt_notific, dt_encerra (0.7734640878897021)\n",
      "sem_not, sem_pri (0.9999958152539423)\n",
      "nu_ano, anodiag (0.9769028165313747)\n",
      "anodiag, nu_ano (0.9769028165313747)\n",
      "sg_uf_not, id_municip (0.9995685946062094)\n",
      "sg_uf_not, UFRES (0.9989326505444045)\n",
      "sg_uf_not, id_mn_resi (0.998491771440503)\n",
      "sg_uf_not, coufinf (0.9981873878147022)\n",
      "sg_uf_not, comuninf (0.9976505307234134)\n",
      "id_municip, sg_uf_not (0.9995685946062094)\n",
      "id_municip, UFRES (0.998502973063139)\n",
      "id_municip, id_mn_resi (0.9988894299359049)\n",
      "id_municip, coufinf (0.9977590780482778)\n",
      "id_municip, comuninf (0.9980476809747266)\n",
      "UFRES, sg_uf_not (0.9989326505444045)\n",
      "UFRES, id_municip (0.998502973063139)\n",
      "UFRES, id_mn_resi (0.9995679077950754)\n",
      "UFRES, coufinf (0.999239731267903)\n",
      "UFRES, comuninf (0.9987115595948387)\n",
      "id_mn_resi, sg_uf_not (0.998491771440503)\n",
      "id_mn_resi, id_municip (0.9988894299359049)\n",
      "id_mn_resi, UFRES (0.9995679077950754)\n",
      "id_mn_resi, coufinf (0.9988089711695586)\n",
      "id_mn_resi, comuninf (0.99914133755723)\n",
      "sem_pri, sem_not (0.9999958152539423)\n",
      "nu_idade_n, nu_idade (0.7193795661654327)\n",
      "FXETARIA, nu_idade (0.9443360593063678)\n",
      "dt_invest, dt_notific (0.9825902797965169)\n",
      "dt_invest, dt_encerra (0.7897172952711686)\n",
      "coufinf, sg_uf_not (0.9981873878147022)\n",
      "coufinf, id_municip (0.9977590780482778)\n",
      "coufinf, UFRES (0.999239731267903)\n",
      "coufinf, id_mn_resi (0.9988089711695586)\n",
      "coufinf, comuninf (0.9994752450544852)\n",
      "comuninf, sg_uf_not (0.9976505307234134)\n",
      "comuninf, id_municip (0.9980476809747266)\n",
      "comuninf, UFRES (0.9987115595948387)\n",
      "comuninf, id_mn_resi (0.99914133755723)\n",
      "comuninf, coufinf (0.9994752450544852)\n",
      "dt_encerra, dt_notific (0.7734640878897021)\n",
      "dt_encerra, dt_invest (0.7897172952711686)\n",
      "nu_idade, nu_idade_n (0.7193795661654327)\n",
      "nu_idade, FXETARIA (0.9443360593063678)\n"
     ]
    }
   ],
   "source": [
    "# Compute the correlation matrix\n",
    "corr = data_df.corr()\n",
    "\n",
    "for index, row in corr.iterrows():\n",
    "    for val in row :\n",
    "        if (val > 0.7) or (val < -0.7):\n",
    "            indx = row[ row == val].index[0]\n",
    "            if index != indx:\n",
    "                print('{}, {} ({})'.format(index, indx, val))"
   ]
  },
  {
   "cell_type": "code",
   "execution_count": 21,
   "metadata": {},
   "outputs": [
    {
     "name": "stdout",
     "output_type": "stream",
     "text": [
      "<class 'pandas.core.frame.DataFrame'>\n",
      "RangeIndex: 117791 entries, 0 to 117790\n",
      "Data columns (total 25 columns):\n",
      "dt_notific    117791 non-null float64\n",
      "sem_not       117791 non-null float64\n",
      "anodiag       117791 non-null float64\n",
      "id_regiona    117791 non-null float64\n",
      "id_unidade    117791 non-null float64\n",
      "dt_diag       117791 non-null float64\n",
      "sem_pri       117791 non-null float64\n",
      "nu_idade_n    117791 non-null float64\n",
      "FXETARIA      117791 non-null float64\n",
      "SEXO          117791 non-null float64\n",
      "cs_gestant    117791 non-null float64\n",
      "cs_raca       117791 non-null float64\n",
      "cs_escol_n    117791 non-null float64\n",
      "cs_zona       117791 non-null float64\n",
      "classi_fin    117791 non-null float64\n",
      "criterio      117791 non-null float64\n",
      "tpautocto     117791 non-null float64\n",
      "copaisinf     117791 non-null float64\n",
      "comuninf      117791 non-null float64\n",
      "co_bainfc     117791 non-null float64\n",
      "doenca_tra    117791 non-null float64\n",
      "evolucao      117791 non-null float64\n",
      "dt_encerra    117791 non-null float64\n",
      "flxrecebi     117791 non-null float64\n",
      "obito         117791 non-null float64\n",
      "dtypes: float64(25)\n",
      "memory usage: 22.5 MB\n"
     ]
    }
   ],
   "source": [
    "to_remove = ['id_mn_resi', 'sg_uf_not', 'id_municip', 'UFRES', 'coufinf', # correlate to 'comuninf'\n",
    "            'nu_idade', # correlate to nu_idade_n and FXETARIA\n",
    "             'nu_ano', #correlate to anodiag\n",
    "             'dt_invest' # correlate to dt_notific\n",
    "            ]\n",
    "\n",
    "data_df.drop(labels=to_remove, inplace=True, axis='columns')\n",
    "\n",
    "data_df.info()"
   ]
  }
 ],
 "metadata": {
  "kernelspec": {
   "display_name": "Python 3",
   "language": "python",
   "name": "python3"
  },
  "language_info": {
   "codemirror_mode": {
    "name": "ipython",
    "version": 3
   },
   "file_extension": ".py",
   "mimetype": "text/x-python",
   "name": "python",
   "nbconvert_exporter": "python",
   "pygments_lexer": "ipython3",
   "version": "3.7.3"
  }
 },
 "nbformat": 4,
 "nbformat_minor": 4
}
