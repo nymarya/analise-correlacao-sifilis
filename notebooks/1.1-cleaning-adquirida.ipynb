{
 "cells": [
  {
   "cell_type": "markdown",
   "metadata": {},
   "source": [
    "# Cleaning"
   ]
  },
  {
   "cell_type": "code",
   "execution_count": 11,
   "metadata": {},
   "outputs": [],
   "source": [
    "# imports \n",
    "import seaborn as sns\n",
    "import pandas as pd\n",
    "import numpy as np"
   ]
  },
  {
   "cell_type": "code",
   "execution_count": 7,
   "metadata": {},
   "outputs": [],
   "source": [
    "df = pd.read_csv('../data/SINAN/SifAquirida_2010_2017_Long.csv', sep=';')"
   ]
  },
  {
   "cell_type": "code",
   "execution_count": 10,
   "metadata": {},
   "outputs": [],
   "source": [
    "# remove irrelevant columns\n",
    "\n",
    "# null columns\n",
    "nulls = ['in_vincula', 'id_ocupa_n', 'codisinf', 'co_usucad','tpuninot']\n",
    "\n",
    "# ignorable (repetitive or something like that)\n",
    "ignorable = [ 'nu_idade_ant_string', 'ctrlsifan', 'id_agravo', \n",
    "             'tp_sistema', 'nobaiinf', 'id_pais', 'dt_diagnostico',\n",
    "            # no significant information (as id, name, birth date)\n",
    "             'dt_nasc', \n",
    "            ]\n",
    "\n",
    "labels = nulls + ignorable\n",
    "df_clean = df.drop(labels=labels, axis='columns')"
   ]
  },
  {
   "cell_type": "markdown",
   "metadata": {},
   "source": [
    "After droping the columns, we must process both numeric and textual values."
   ]
  },
  {
   "cell_type": "code",
   "execution_count": 20,
   "metadata": {},
   "outputs": [
    {
     "data": {
      "text/plain": [
       "1    149883\n",
       "9     67423\n",
       "3       348\n",
       "2       121\n",
       "Name: evolucao, dtype: int64"
      ]
     },
     "execution_count": 20,
     "metadata": {},
     "output_type": "execute_result"
    }
   ],
   "source": [
    "# change empty string to missing values\n",
    "df_clean.replace('\\s+', np.nan, regex=True, inplace=True)\n",
    "\n",
    "# Asserting it worked\n",
    "df_clean.evolucao.value_counts()"
   ]
  },
  {
   "cell_type": "code",
   "execution_count": 23,
   "metadata": {},
   "outputs": [
    {
     "data": {
      "text/plain": [
       "paciente    7479\n",
       "ocupacao    2537\n",
       "antecede    1999\n",
       "tratamen    1639\n",
       "titulaca    1244\n",
       "Name: co_usualt, dtype: int64"
      ]
     },
     "execution_count": 23,
     "metadata": {},
     "output_type": "execute_result"
    }
   ],
   "source": [
    "# categorical data as lowercase\n",
    "categorical = ['co_usualt']\n",
    "\n",
    "for category in categorical:\n",
    "    df_clean[category] = df_clean.iloc[:,df_clean.columns.get_loc(category)].str.lower() \n",
    "    \n",
    "df_clean.co_usualt.value_counts().head()"
   ]
  }
 ],
 "metadata": {
  "kernelspec": {
   "display_name": "alaunusenv",
   "language": "python",
   "name": "alaunusenv"
  },
  "language_info": {
   "codemirror_mode": {
    "name": "ipython",
    "version": 3
   },
   "file_extension": ".py",
   "mimetype": "text/x-python",
   "name": "python",
   "nbconvert_exporter": "python",
   "pygments_lexer": "ipython3",
   "version": "3.6.9"
  }
 },
 "nbformat": 4,
 "nbformat_minor": 4
}
