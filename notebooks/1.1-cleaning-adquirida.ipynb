{
 "cells": [
  {
   "cell_type": "markdown",
   "metadata": {},
   "source": [
    "# Cleaning"
   ]
  },
  {
   "cell_type": "code",
   "execution_count": 26,
   "metadata": {},
   "outputs": [],
   "source": [
    "# imports \n",
    "import seaborn as sns\n",
    "import pandas as pd\n",
    "import numpy as np"
   ]
  },
  {
   "cell_type": "code",
   "execution_count": 27,
   "metadata": {},
   "outputs": [
    {
     "name": "stderr",
     "output_type": "stream",
     "text": [
      "/home/mayra/workspace/alaunus/lib/python3.6/site-packages/IPython/core/interactiveshell.py:3051: DtypeWarning: Columns (7,10,19,20,43) have mixed types. Specify dtype option on import or set low_memory=False.\n",
      "  interactivity=interactivity, compiler=compiler, result=result)\n"
     ]
    }
   ],
   "source": [
    "df = pd.read_csv('../data/SINAN/SifAquirida_2010_2017_Long.csv', sep=';')"
   ]
  },
  {
   "cell_type": "code",
   "execution_count": 28,
   "metadata": {},
   "outputs": [],
   "source": [
    "# remove irrelevant columns\n",
    "\n",
    "# null columns\n",
    "nulls = ['in_vincula', 'id_ocupa_n', 'codisinf', 'co_usucad','tpuninot']\n",
    "\n",
    "# ignorable (repetitive or something like that)\n",
    "ignorable = [ 'nu_idade_ant_string', 'ctrlsifan', 'id_agravo', \n",
    "             'tp_sistema', 'nobaiinf', 'id_pais', 'dt_diagnostico',\n",
    "            # no significant information (as id, name, birth date)\n",
    "             'dt_nasc',\n",
    "            ]\n",
    "\n",
    "labels = nulls + ignorable\n",
    "df_clean = df.drop(labels=labels, axis='columns')"
   ]
  },
  {
   "cell_type": "markdown",
   "metadata": {},
   "source": [
    "After droping the columns, we must process both numeric and textual values."
   ]
  },
  {
   "cell_type": "code",
   "execution_count": 29,
   "metadata": {},
   "outputs": [
    {
     "data": {
      "text/plain": [
       "1    149883\n",
       "9     67423\n",
       "3       348\n",
       "2       121\n",
       "Name: evolucao, dtype: int64"
      ]
     },
     "execution_count": 29,
     "metadata": {},
     "output_type": "execute_result"
    }
   ],
   "source": [
    "# change empty string to missing values\n",
    "df_clean.replace('\\s+', np.nan, regex=True, inplace=True)\n",
    "\n",
    "# Asserting it worked\n",
    "df_clean.evolucao.value_counts()"
   ]
  },
  {
   "cell_type": "code",
   "execution_count": 30,
   "metadata": {},
   "outputs": [
    {
     "data": {
      "text/plain": [
       "paciente    7479\n",
       "ocupacao    2537\n",
       "antecede    1999\n",
       "tratamen    1639\n",
       "titulaca    1244\n",
       "Name: co_usualt, dtype: int64"
      ]
     },
     "execution_count": 30,
     "metadata": {},
     "output_type": "execute_result"
    }
   ],
   "source": [
    "# categorical data as lowercase\n",
    "categorical = ['co_usualt']\n",
    "\n",
    "for category in categorical:\n",
    "    df_clean[category] = df_clean.iloc[:,df_clean.columns.get_loc(category)].str.lower() \n",
    "    \n",
    "df_clean.co_usualt.value_counts().head()"
   ]
  },
  {
   "cell_type": "code",
   "execution_count": 31,
   "metadata": {},
   "outputs": [
    {
     "name": "stdout",
     "output_type": "stream",
     "text": [
      "<class 'pandas.core.frame.DataFrame'>\n",
      "RangeIndex: 344358 entries, 0 to 344357\n",
      "Data columns (total 34 columns):\n",
      "dt_notific    344355 non-null object\n",
      "sem_not       344355 non-null float64\n",
      "nu_ano        342531 non-null float64\n",
      "anodiag       342531 non-null float64\n",
      "sg_uf_not     342530 non-null object\n",
      "id_municip    342531 non-null float64\n",
      "id_regiona    313840 non-null object\n",
      "id_unidade    342523 non-null object\n",
      "UFRES         342531 non-null float64\n",
      "id_mn_resi    342531 non-null float64\n",
      "dt_diag       342531 non-null object\n",
      "sem_pri       342531 non-null float64\n",
      "nu_idade_n    342531 non-null float64\n",
      "FXETARIA      342531 non-null float64\n",
      "SEXO          342531 non-null float64\n",
      "cs_gestant    342524 non-null object\n",
      "cs_raca       335034 non-null object\n",
      "cs_escol_n    316785 non-null object\n",
      "cs_zona       331169 non-null object\n",
      "dt_invest     243189 non-null object\n",
      "classi_fin    329125 non-null object\n",
      "criterio      231979 non-null object\n",
      "tpautocto     232044 non-null object\n",
      "coufinf       147160 non-null object\n",
      "copaisinf     342531 non-null float64\n",
      "comuninf      146911 non-null object\n",
      "co_bainfc     342531 non-null float64\n",
      "doenca_tra    217346 non-null object\n",
      "evolucao      217775 non-null object\n",
      "dt_obito      299 non-null object\n",
      "dt_encerra    329126 non-null object\n",
      "flxrecebi     342531 non-null float64\n",
      "co_usualt     36080 non-null object\n",
      "nu_idade      340707 non-null float64\n",
      "dtypes: float64(14), object(20)\n",
      "memory usage: 89.3+ MB\n"
     ]
    }
   ],
   "source": [
    "df_clean.info()"
   ]
  },
  {
   "cell_type": "markdown",
   "metadata": {},
   "source": [
    "Before taking the last steps of preprocessing, we need to erase the nan values. Otherwise the methods of conversion and labeling won't work."
   ]
  },
  {
   "cell_type": "code",
   "execution_count": 32,
   "metadata": {},
   "outputs": [],
   "source": [
    "# convert columns that are numeric but have string values\n",
    "not_categorical = ['cs_gestant', 'cs_raca', 'cs_escol_n', 'cs_zona', \n",
    "          'tpautocto', 'classi_fin', 'criterio', 'evolucao', \n",
    "          'doenca_tra']\n",
    "\n",
    "df_clean.dropna(inplace=True, axis='rows', subset=not_categorical)\n",
    "\n",
    "df_clean.loc[:,not_categorical] = df_clean.loc[:,not_categorical].astype('int64')"
   ]
  },
  {
   "cell_type": "code",
   "execution_count": 33,
   "metadata": {},
   "outputs": [
    {
     "name": "stdout",
     "output_type": "stream",
     "text": [
      "<class 'pandas.core.frame.DataFrame'>\n",
      "Int64Index: 189875 entries, 2 to 344356\n",
      "Data columns (total 34 columns):\n",
      "dt_notific    189875 non-null object\n",
      "sem_not       189875 non-null float64\n",
      "nu_ano        189875 non-null float64\n",
      "anodiag       189875 non-null float64\n",
      "sg_uf_not     189874 non-null object\n",
      "id_municip    189875 non-null float64\n",
      "id_regiona    181584 non-null object\n",
      "id_unidade    189872 non-null object\n",
      "UFRES         189875 non-null float64\n",
      "id_mn_resi    189875 non-null float64\n",
      "dt_diag       189875 non-null object\n",
      "sem_pri       189875 non-null float64\n",
      "nu_idade_n    189875 non-null float64\n",
      "FXETARIA      189875 non-null float64\n",
      "SEXO          189875 non-null float64\n",
      "cs_gestant    189875 non-null int64\n",
      "cs_raca       189875 non-null int64\n",
      "cs_escol_n    189875 non-null int64\n",
      "cs_zona       189875 non-null int64\n",
      "dt_invest     189874 non-null object\n",
      "classi_fin    189875 non-null int64\n",
      "criterio      189875 non-null int64\n",
      "tpautocto     189875 non-null int64\n",
      "coufinf       122159 non-null object\n",
      "copaisinf     189875 non-null float64\n",
      "comuninf      122001 non-null object\n",
      "co_bainfc     189875 non-null float64\n",
      "doenca_tra    189875 non-null int64\n",
      "evolucao      189875 non-null int64\n",
      "dt_obito      256 non-null object\n",
      "dt_encerra    189875 non-null object\n",
      "flxrecebi     189875 non-null float64\n",
      "co_usualt     27421 non-null object\n",
      "nu_idade      188553 non-null float64\n",
      "dtypes: float64(14), int64(9), object(11)\n",
      "memory usage: 50.7+ MB\n"
     ]
    }
   ],
   "source": [
    "df_clean.info()"
   ]
  },
  {
   "cell_type": "code",
   "execution_count": 35,
   "metadata": {},
   "outputs": [
    {
     "data": {
      "text/plain": [
       "2         False\n",
       "5         False\n",
       "7         False\n",
       "9         False\n",
       "10        False\n",
       "          ...  \n",
       "344350    False\n",
       "344352    False\n",
       "344353    False\n",
       "344354    False\n",
       "344356    False\n",
       "Name: obito, Length: 189875, dtype: bool"
      ]
     },
     "execution_count": 35,
     "metadata": {},
     "output_type": "execute_result"
    }
   ],
   "source": [
    "# re-arrange dt_obito\n",
    "df_clean['obito'] = df_clean.dt_obito.notna()\n",
    "df_clean.drop(labels=['dt_obito'], axis='columns', inplace=True)\n",
    "\n",
    "df_clean.obito"
   ]
  },
  {
   "cell_type": "code",
   "execution_count": 36,
   "metadata": {},
   "outputs": [
    {
     "name": "stdout",
     "output_type": "stream",
     "text": [
      "<class 'pandas.core.frame.DataFrame'>\n",
      "Int64Index: 189875 entries, 2 to 344356\n",
      "Data columns (total 34 columns):\n",
      "dt_notific    189875 non-null object\n",
      "sem_not       189875 non-null float64\n",
      "nu_ano        189875 non-null float64\n",
      "anodiag       189875 non-null float64\n",
      "sg_uf_not     189874 non-null object\n",
      "id_municip    189875 non-null float64\n",
      "id_regiona    181584 non-null object\n",
      "id_unidade    189872 non-null object\n",
      "UFRES         189875 non-null float64\n",
      "id_mn_resi    189875 non-null float64\n",
      "dt_diag       189875 non-null object\n",
      "sem_pri       189875 non-null float64\n",
      "nu_idade_n    189875 non-null float64\n",
      "FXETARIA      189875 non-null float64\n",
      "SEXO          189875 non-null float64\n",
      "cs_gestant    189875 non-null int64\n",
      "cs_raca       189875 non-null int64\n",
      "cs_escol_n    189875 non-null int64\n",
      "cs_zona       189875 non-null int64\n",
      "dt_invest     189874 non-null object\n",
      "classi_fin    189875 non-null int64\n",
      "criterio      189875 non-null int64\n",
      "tpautocto     189875 non-null int64\n",
      "coufinf       122159 non-null object\n",
      "copaisinf     189875 non-null float64\n",
      "comuninf      122001 non-null object\n",
      "co_bainfc     189875 non-null float64\n",
      "doenca_tra    189875 non-null int64\n",
      "evolucao      189875 non-null int64\n",
      "dt_encerra    189875 non-null object\n",
      "flxrecebi     189875 non-null float64\n",
      "co_usualt     27421 non-null object\n",
      "nu_idade      188553 non-null float64\n",
      "obito         189875 non-null bool\n",
      "dtypes: bool(1), float64(14), int64(9), object(10)\n",
      "memory usage: 49.4+ MB\n"
     ]
    }
   ],
   "source": [
    "df_clean.info()"
   ]
  },
  {
   "cell_type": "markdown",
   "metadata": {},
   "source": [
    "## Final preprocessing\n"
   ]
  }
 ],
 "metadata": {
  "kernelspec": {
   "display_name": "alaunusenv",
   "language": "python",
   "name": "alaunusenv"
  },
  "language_info": {
   "codemirror_mode": {
    "name": "ipython",
    "version": 3
   },
   "file_extension": ".py",
   "mimetype": "text/x-python",
   "name": "python",
   "nbconvert_exporter": "python",
   "pygments_lexer": "ipython3",
   "version": "3.6.9"
  }
 },
 "nbformat": 4,
 "nbformat_minor": 4
}
